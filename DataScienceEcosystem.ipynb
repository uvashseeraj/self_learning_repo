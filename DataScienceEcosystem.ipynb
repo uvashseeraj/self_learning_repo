{
 "cells": [
  {
   "cell_type": "markdown",
   "id": "48602e79-6da9-4ae5-ab52-dc00a971127f",
   "metadata": {},
   "source": [
    "# Data Science Tools and Ecosystem"
   ]
  },
  {
   "cell_type": "markdown",
   "id": "8a904aa4-ee53-43fa-aa0a-51cc30b36839",
   "metadata": {},
   "source": [
    "In this notebook, Data Science Tools and Ecosystem are summarized. "
   ]
  },
  {
   "cell_type": "markdown",
   "id": "01363aa5-29d4-4f8b-9302-d69ef6d2d0e5",
   "metadata": {},
   "source": [
    "**Objectives:**\n",
    "- Popular languages Data Scientists are using.\n",
    "- Commonly used Libraries.\n",
    "- Commonly used Tools.\n",
    "- Some math expressions.\n",
    "\n",
    "## Author ##\n",
    "Uvash Seeraj"
   ]
  },
  {
   "cell_type": "markdown",
   "id": "438f2a2e-1cc7-40df-a130-57296bf97aab",
   "metadata": {},
   "source": [
    "Some of the popular languages that Data Scientist use are:\n",
    "1. Python\n",
    "2. R\n",
    "3. SQL "
   ]
  },
  {
   "cell_type": "markdown",
   "id": "7f3a667b-c8bc-4b9f-a179-3570cef7ef56",
   "metadata": {},
   "source": [
    "Some of the commonly used libraries used by Data Scientist include: \n",
    "1. Numpy\n",
    "2. Pandas\n",
    "3. Matplotlib "
   ]
  },
  {
   "cell_type": "markdown",
   "id": "af52d5c8-12bf-4da6-bda1-0eae5a05a139",
   "metadata": {},
   "source": [
    "|Data Science Tools|\n",
    "|------------------|\n",
    "| PyCharm | \n",
    "| Jupyter Notebook |\n",
    "| R Studio | "
   ]
  },
  {
   "cell_type": "markdown",
   "id": "3bee3234-3f49-401a-b53c-45725e24ed7c",
   "metadata": {},
   "source": [
    "### Below are a few examples of evaluating arithmetic expressions in Python ###"
   ]
  },
  {
   "cell_type": "code",
   "execution_count": 15,
   "id": "534e2213-f1d9-4c60-b329-9f5b91487984",
   "metadata": {},
   "outputs": [
    {
     "name": "stdout",
     "output_type": "stream",
     "text": [
      "17\n"
     ]
    }
   ],
   "source": [
    "# This is a simple arithmetic expression to multiply then add integers.\n",
    "x = (3*4)+5\n",
    "print(x)"
   ]
  },
  {
   "cell_type": "code",
   "execution_count": 21,
   "id": "eea1de37-a86c-44f3-886e-61f48ee4cb46",
   "metadata": {},
   "outputs": [
    {
     "name": "stdout",
     "output_type": "stream",
     "text": [
      "3.3333333333333335 hours\n"
     ]
    }
   ],
   "source": [
    "#This will convert 200 minutes into hours by dividing by 60.\n",
    "y = 200 / 60\n",
    "print(y, \"hours\")"
   ]
  },
  {
   "cell_type": "code",
   "execution_count": null,
   "id": "0712ca02-789c-4754-8a53-a5d0f41f374e",
   "metadata": {},
   "outputs": [],
   "source": []
  }
 ],
 "metadata": {
  "kernelspec": {
   "display_name": "Python 3 (ipykernel)",
   "language": "python",
   "name": "python3"
  },
  "language_info": {
   "codemirror_mode": {
    "name": "ipython",
    "version": 3
   },
   "file_extension": ".py",
   "mimetype": "text/x-python",
   "name": "python",
   "nbconvert_exporter": "python",
   "pygments_lexer": "ipython3",
   "version": "3.11.7"
  }
 },
 "nbformat": 4,
 "nbformat_minor": 5
}
